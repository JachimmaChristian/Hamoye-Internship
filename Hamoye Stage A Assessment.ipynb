{
 "cells": [
  {
   "cell_type": "code",
   "execution_count": 26,
   "id": "941b60e4",
   "metadata": {},
   "outputs": [
    {
     "data": {
      "text/html": [
       "<div>\n",
       "<style scoped>\n",
       "    .dataframe tbody tr th:only-of-type {\n",
       "        vertical-align: middle;\n",
       "    }\n",
       "\n",
       "    .dataframe tbody tr th {\n",
       "        vertical-align: top;\n",
       "    }\n",
       "\n",
       "    .dataframe thead th {\n",
       "        text-align: right;\n",
       "    }\n",
       "</style>\n",
       "<table border=\"1\" class=\"dataframe\">\n",
       "  <thead>\n",
       "    <tr style=\"text-align: right;\">\n",
       "      <th></th>\n",
       "      <th>Area Code</th>\n",
       "      <th>Area</th>\n",
       "      <th>Item Code</th>\n",
       "      <th>Item</th>\n",
       "      <th>Element Code</th>\n",
       "      <th>Element</th>\n",
       "      <th>Unit</th>\n",
       "      <th>Y2014</th>\n",
       "      <th>Y2015</th>\n",
       "      <th>Y2016</th>\n",
       "      <th>Y2017</th>\n",
       "      <th>Y2018</th>\n",
       "    </tr>\n",
       "  </thead>\n",
       "  <tbody>\n",
       "    <tr>\n",
       "      <th>0</th>\n",
       "      <td>4</td>\n",
       "      <td>Algeria</td>\n",
       "      <td>2501</td>\n",
       "      <td>Population</td>\n",
       "      <td>511</td>\n",
       "      <td>Total Population - Both sexes</td>\n",
       "      <td>1000 persons</td>\n",
       "      <td>38924.00</td>\n",
       "      <td>39728.00</td>\n",
       "      <td>40551.00</td>\n",
       "      <td>41389.00</td>\n",
       "      <td>42228.00</td>\n",
       "    </tr>\n",
       "    <tr>\n",
       "      <th>1</th>\n",
       "      <td>4</td>\n",
       "      <td>Algeria</td>\n",
       "      <td>2501</td>\n",
       "      <td>Population</td>\n",
       "      <td>5301</td>\n",
       "      <td>Domestic supply quantity</td>\n",
       "      <td>1000 tonnes</td>\n",
       "      <td>0.00</td>\n",
       "      <td>0.00</td>\n",
       "      <td>0.00</td>\n",
       "      <td>0.00</td>\n",
       "      <td>0.00</td>\n",
       "    </tr>\n",
       "    <tr>\n",
       "      <th>2</th>\n",
       "      <td>4</td>\n",
       "      <td>Algeria</td>\n",
       "      <td>2901</td>\n",
       "      <td>Grand Total</td>\n",
       "      <td>664</td>\n",
       "      <td>Food supply (kcal/capita/day)</td>\n",
       "      <td>kcal/capita/day</td>\n",
       "      <td>3377.00</td>\n",
       "      <td>3379.00</td>\n",
       "      <td>3372.00</td>\n",
       "      <td>3341.00</td>\n",
       "      <td>3322.00</td>\n",
       "    </tr>\n",
       "    <tr>\n",
       "      <th>3</th>\n",
       "      <td>4</td>\n",
       "      <td>Algeria</td>\n",
       "      <td>2901</td>\n",
       "      <td>Grand Total</td>\n",
       "      <td>674</td>\n",
       "      <td>Protein supply quantity (g/capita/day)</td>\n",
       "      <td>g/capita/day</td>\n",
       "      <td>94.90</td>\n",
       "      <td>94.35</td>\n",
       "      <td>94.72</td>\n",
       "      <td>92.82</td>\n",
       "      <td>91.83</td>\n",
       "    </tr>\n",
       "    <tr>\n",
       "      <th>4</th>\n",
       "      <td>4</td>\n",
       "      <td>Algeria</td>\n",
       "      <td>2901</td>\n",
       "      <td>Grand Total</td>\n",
       "      <td>684</td>\n",
       "      <td>Fat supply quantity (g/capita/day)</td>\n",
       "      <td>g/capita/day</td>\n",
       "      <td>80.06</td>\n",
       "      <td>79.36</td>\n",
       "      <td>77.40</td>\n",
       "      <td>80.19</td>\n",
       "      <td>77.28</td>\n",
       "    </tr>\n",
       "  </tbody>\n",
       "</table>\n",
       "</div>"
      ],
      "text/plain": [
       "   Area Code     Area  Item Code         Item  Element Code  \\\n",
       "0          4  Algeria       2501   Population           511   \n",
       "1          4  Algeria       2501   Population          5301   \n",
       "2          4  Algeria       2901  Grand Total           664   \n",
       "3          4  Algeria       2901  Grand Total           674   \n",
       "4          4  Algeria       2901  Grand Total           684   \n",
       "\n",
       "                                  Element             Unit     Y2014  \\\n",
       "0           Total Population - Both sexes     1000 persons  38924.00   \n",
       "1                Domestic supply quantity      1000 tonnes      0.00   \n",
       "2           Food supply (kcal/capita/day)  kcal/capita/day   3377.00   \n",
       "3  Protein supply quantity (g/capita/day)     g/capita/day     94.90   \n",
       "4      Fat supply quantity (g/capita/day)     g/capita/day     80.06   \n",
       "\n",
       "      Y2015     Y2016     Y2017     Y2018  \n",
       "0  39728.00  40551.00  41389.00  42228.00  \n",
       "1      0.00      0.00      0.00      0.00  \n",
       "2   3379.00   3372.00   3341.00   3322.00  \n",
       "3     94.35     94.72     92.82     91.83  \n",
       "4     79.36     77.40     80.19     77.28  "
      ]
     },
     "execution_count": 26,
     "metadata": {},
     "output_type": "execute_result"
    }
   ],
   "source": [
    "import pandas as pd\n",
    "\n",
    "df = pd.read_csv(r\"C:/Users/HP/Downloads/FoodBalanceSheets_E_Africa_NOFLAG.csv\", encoding = \"latin-1\")\n",
    "\n",
    "df.head()"
   ]
  },
  {
   "cell_type": "code",
   "execution_count": 58,
   "id": "c1c4366b",
   "metadata": {},
   "outputs": [
    {
     "name": "stdout",
     "output_type": "stream",
     "text": [
      "Y2016 0.023\n"
     ]
    }
   ],
   "source": [
    "#year with least correlation with element code\n",
    "\n",
    "correlations ={}\n",
    "\n",
    "for year in ['Y2014', 'Y2015', 'Y2016', 'Y2017', 'Y2018']:\n",
    "    \n",
    "    correlations[year] = df['Element Code'].corr(df[year])\n",
    "    \n",
    "correlations\n",
    "\n",
    "min_year = min(correlations, key = correlations.get)\n",
    "\n",
    "min_value = round(correlations[min_year], 3)\n",
    "\n",
    "print(min_year, min_value)"
   ]
  },
  {
   "cell_type": "code",
   "execution_count": 59,
   "id": "4534b3cc",
   "metadata": {},
   "outputs": [
    {
     "data": {
      "text/plain": [
       "'Guinea-Bissau'"
      ]
     },
     "execution_count": 59,
     "metadata": {},
     "output_type": "execute_result"
    }
   ],
   "source": [
    "#Find the area with the seventh lowest sum in 2017\n",
    "area_sums = df[['Y2017', 'Area']].groupby('Area')['Y2017'].sum()\n",
    "\n",
    "area_sums\n",
    "\n",
    "#get the seventh lowest sum\n",
    "\n",
    "area_sums_sorted = area_sums.sort_values().index[6]\n",
    "\n",
    "area_sums_sorted"
   ]
  },
  {
   "cell_type": "code",
   "execution_count": 60,
   "id": "65aa194d",
   "metadata": {},
   "outputs": [
    {
     "data": {
      "text/plain": [
       "49"
      ]
     },
     "execution_count": 60,
     "metadata": {},
     "output_type": "execute_result"
    }
   ],
   "source": [
    "#number of unique countries in the dataset\n",
    "\n",
    "unique_countries = df['Area'].nunique()\n",
    "\n",
    "unique_countries"
   ]
  },
  {
   "cell_type": "code",
   "execution_count": 70,
   "id": "8bc40c94",
   "metadata": {},
   "outputs": [
    {
     "name": "stdout",
     "output_type": "stream",
     "text": [
      "1589, 2.607%\n"
     ]
    }
   ],
   "source": [
    "#Total number and percentage of missing data in 2024\n",
    "\n",
    "# Calculate the total number of missing values in 2014\n",
    "missing_count = df['Y2014'].isnull().sum()\n",
    "\n",
    "missing_count\n",
    "\n",
    "# Calculate the total number of data points in 2014\n",
    "total_data_points = len(df)\n",
    "\n",
    "# Calculate the percentage of missing data\n",
    "missing_percentage = round((missing_count / total_data_points) * 100,3)\n",
    "\n",
    "print(f'{missing_count}, {missing_percentage}%')"
   ]
  },
  {
   "cell_type": "code",
   "execution_count": 71,
   "id": "1364a25c",
   "metadata": {},
   "outputs": [
    {
     "data": {
      "text/plain": [
       "Element\n",
       "Processing    292836.0\n",
       "Name: Y2017, dtype: float64"
      ]
     },
     "execution_count": 71,
     "metadata": {},
     "output_type": "execute_result"
    }
   ],
   "source": [
    "# Total number of the sum of processing in 2017\n",
    "\n",
    "# Group by 'Element' and calculate the sum for 2017\n",
    "element_group = df[df['Element'] == 'Processing'].groupby('Element')['Y2017'].sum()\n",
    "\n",
    "element_group"
   ]
  },
  {
   "cell_type": "code",
   "execution_count": 72,
   "id": "91c74447",
   "metadata": {},
   "outputs": [
    {
     "name": "stdout",
     "output_type": "stream",
     "text": [
      "The total sum of 'Processing' in 2017 is: 292836.000\n"
     ]
    }
   ],
   "source": [
    "# Get the sum for 'Processing' in 2017\n",
    "processing_sum_2017 = element_group.get('Processing', 0) \n",
    "\n",
    "\n",
    "print(f\"The total sum of 'Processing' in 2017 is: {processing_sum_2017:.3f}\")"
   ]
  },
  {
   "cell_type": "code",
   "execution_count": 75,
   "id": "5836b9de",
   "metadata": {},
   "outputs": [
    {
     "name": "stdout",
     "output_type": "stream",
     "text": [
      "Total wine production 2015: 4251.810\n",
      "Total wine production 2018: 4039.320\n"
     ]
    }
   ],
   "source": [
    "# total sum of Wine produced in 2015 and 2018 respectively\n",
    "\n",
    "# Calculate the sum of wine production in 2015 and 2018\n",
    "wine_production_2015 = df.loc[df['Item'] == 'Wine', 'Y2015'].sum()\n",
    "wine_production_2018 = df.loc[df['Item'] == 'Wine', 'Y2018'].sum()\n",
    "\n",
    "print(f\"Total wine production 2015: {wine_production_2015:.3f}\")\n",
    "print(f\"Total wine production 2018: {wine_production_2018:.3f}\")"
   ]
  },
  {
   "cell_type": "code",
   "execution_count": 77,
   "id": "06ef5f99",
   "metadata": {},
   "outputs": [
    {
     "name": "stdout",
     "output_type": "stream",
     "text": [
      "Mean for 2017: 140.92\n",
      "Standard Deviation for 2017: 1671.86\n"
     ]
    }
   ],
   "source": [
    "# Calculate the mean and standard deviation for the year 2017\n",
    "mean_2017 = df['Y2017'].mean()\n",
    "std_2017 = df['Y2017'].std()\n",
    "\n",
    "print(f\"Mean for 2017: {mean_2017:.2f}\")\n",
    "print(f\"Standard Deviation for 2017: {std_2017:.2f}\")"
   ]
  },
  {
   "cell_type": "code",
   "execution_count": 82,
   "id": "f3dcd14e",
   "metadata": {},
   "outputs": [
    {
     "name": "stdout",
     "output_type": "stream",
     "text": [
      "The area with the highest sum in 2017 is: Nigeria\n"
     ]
    }
   ],
   "source": [
    "#Areas with the highest sum in 2017\n",
    "\n",
    "area_sum_2017 = df.groupby('Area')['Y2017'].sum()\n",
    "\n",
    "highest_sum_area = area_sum_2017.idxmax() \n",
    "\n",
    "print(f\"The area with the highest sum in 2017 is: {highest_sum_area}\")"
   ]
  },
  {
   "cell_type": "code",
   "execution_count": 87,
   "id": "a5e5f3d9",
   "metadata": {},
   "outputs": [
    {
     "name": "stdout",
     "output_type": "stream",
     "text": [
      "The year with the highest sum of 'Stock Variation' is: Y2014\n"
     ]
    }
   ],
   "source": [
    "#year with the highest sum of Stock Variation\n",
    "\n",
    "# Calculate the sum of \"Stock Variation\" for each year\n",
    "stock_variation_sum = df.loc[df['Element'] == 'Stock Variation', ['Y2014', 'Y2015', 'Y2016', 'Y2017', 'Y2018']].sum()\n",
    "\n",
    "# year with the highest sum\n",
    "highest_sum_year = stock_variation_sum.idxmax()\n",
    "\n",
    "print(f\"The year with the highest sum of 'Stock Variation' is: {highest_sum_year}\")"
   ]
  },
  {
   "cell_type": "code",
   "execution_count": 17,
   "id": "6d835591",
   "metadata": {},
   "outputs": [
    {
     "data": {
      "text/plain": [
       "173.04999999999998"
      ]
     },
     "execution_count": 17,
     "metadata": {},
     "output_type": "execute_result"
    }
   ],
   "source": [
    "df.loc[(df['Area'] == 'Madagascar') & (df['Element'] == 'Protein supply quantity (g/capita/day)'), 'Y2015'].sum()"
   ]
  },
  {
   "cell_type": "code",
   "execution_count": null,
   "id": "86e0016c",
   "metadata": {},
   "outputs": [],
   "source": []
  },
  {
   "cell_type": "code",
   "execution_count": null,
   "id": "2cfaf11a",
   "metadata": {},
   "outputs": [],
   "source": []
  }
 ],
 "metadata": {
  "kernelspec": {
   "display_name": "Python 3 (ipykernel)",
   "language": "python",
   "name": "python3"
  },
  "language_info": {
   "codemirror_mode": {
    "name": "ipython",
    "version": 3
   },
   "file_extension": ".py",
   "mimetype": "text/x-python",
   "name": "python",
   "nbconvert_exporter": "python",
   "pygments_lexer": "ipython3",
   "version": "3.9.13"
  }
 },
 "nbformat": 4,
 "nbformat_minor": 5
}
